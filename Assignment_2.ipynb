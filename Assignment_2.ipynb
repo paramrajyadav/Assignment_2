{
 "cells": [
  {
   "cell_type": "markdown",
   "id": "39a34707",
   "metadata": {},
   "source": [
    "## 1.What are the two values of the Boolean data type? How do you write them?\n",
    "\n",
    "Ans Two types of boolean values are True and False.\n",
    "\n",
    "   X=true,  Y=False"
   ]
  },
  {
   "cell_type": "markdown",
   "id": "1bc0c379",
   "metadata": {},
   "source": [
    "## 2. What are the three different types of Boolean operators?\n",
    "\n",
    "Ans.  AND, OR and NOT."
   ]
  },
  {
   "cell_type": "markdown",
   "id": "e6bcc4c3",
   "metadata": {},
   "source": [
    "## 3. Make a list of each Boolean operator& truth tables (i.e. every possible combination of Boolean values for the operator and what it evaluate ).\n",
    "\n",
    "\n",
    "\n"
   ]
  },
  {
   "cell_type": "raw",
   "id": "a7f6e639",
   "metadata": {},
   "source": [
    "Ans \n",
    "\n",
    "And Truth table\n",
    "\n",
    "A   B   A And B\n",
    "T\tT\tT\n",
    "T\tF\tF\n",
    "F\tT\tF\n",
    "F\tF\tF\n",
    "\n",
    "OR Truth table\n",
    "\n",
    "A   B   A Or B\n",
    "T\tT\tT\n",
    "T\tF\tT\n",
    "F\tT\tT\n",
    "F\tF\tF\n",
    "\n",
    "\n",
    "Not Truth table\n",
    "\n",
    "A      Not A\n",
    "T\t\tF\n",
    "F\t\tT\n"
   ]
  },
  {
   "cell_type": "markdown",
   "id": "b977a629",
   "metadata": {},
   "source": [
    "## 4. What are the values of the following expressions?\n",
    "## (5 >4) and (3 == 5)\n",
    "## not (5 >4)\n",
    "## (5 >4) or (3 == 5)\n",
    "## not ((5 < 4) or (3 == 5))\n",
    "## (True and True) and (True == False)\n",
    "## (not False) or (not True)\n"
   ]
  },
  {
   "cell_type": "raw",
   "id": "d41f20bc",
   "metadata": {},
   "source": [
    "Ans\n",
    "\n",
    "True\n",
    "False\n",
    "True\n",
    "True\n",
    "False\n",
    "True"
   ]
  },
  {
   "cell_type": "markdown",
   "id": "ee0b5909",
   "metadata": {},
   "source": [
    "## 5. What are the six comparison operators?"
   ]
  },
  {
   "cell_type": "raw",
   "id": "8e2e8f98",
   "metadata": {},
   "source": [
    "Ans\n",
    "\n",
    "Python has six comparison operators, which are as follows:\n",
    "\n",
    "Less than ( < )\n",
    "Less than or equal to (<=)\n",
    "Greater than (>)\n",
    "Greater than or equal to (>=)\n",
    "Equal to ( == )\n",
    "Not equal to ( != )"
   ]
  },
  {
   "cell_type": "markdown",
   "id": "2b99197f",
   "metadata": {},
   "source": [
    "## 6. How do you tell the difference between the equal to and assignment operators?Describe a condition and when you would use one."
   ]
  },
  {
   "cell_type": "markdown",
   "id": "5d7cbb82",
   "metadata": {},
   "source": [
    "Ans Equal operator is denoted by == ,whereas asignment operator is denoted as =. \n",
    "\n",
    "When we are assigning any value to a variable we use asignment operator(=.)and when we are checking any condition (if its is equal to other value) then we use equal operator(==)"
   ]
  },
  {
   "cell_type": "markdown",
   "id": "3043790e",
   "metadata": {},
   "source": [
    "## 7. Identify the three blocks in this code:"
   ]
  },
  {
   "cell_type": "raw",
   "id": "637b59ab",
   "metadata": {},
   "source": [
    "spam = 0\n",
    "if spam == 10:\n",
    "print('eggs')\n",
    "\n",
    "if spam>5:\n",
    "print('bacon')\n",
    "\n",
    "else:\n",
    "print('ham')\n",
    "print('spam')\n",
    "print('spam')"
   ]
  },
  {
   "cell_type": "raw",
   "id": "6e747ac4",
   "metadata": {},
   "source": [
    "Ans Three block in the above code is as below\n",
    "\n",
    "First block\n",
    "spam = 0\n",
    "\n",
    "Second block\n",
    "if spam == 10:\n",
    "print('eggs')\n",
    "\n",
    "Third Block\n",
    "if spam>5:\n",
    "print('bacon')\n",
    "\n",
    "else:\n",
    "print('ham')\n",
    "print('spam')\n",
    "print('spam')"
   ]
  },
  {
   "cell_type": "markdown",
   "id": "bd03b36c",
   "metadata": {},
   "source": [
    "## 8. Write code that prints Hello if 1 is stored in spam, prints Howdy if 2 is stored in spam, and prints  Greetings! if anything else is stored in spam."
   ]
  },
  {
   "cell_type": "code",
   "execution_count": 18,
   "id": "0e77f21d",
   "metadata": {},
   "outputs": [
    {
     "name": "stdout",
     "output_type": "stream",
     "text": [
      "enter the value2\n",
      "Howdy\n"
     ]
    }
   ],
   "source": [
    "spam=input(\"enter the value\")\n",
    "if spam==\"1\":\n",
    "    print(\"Hello\")\n",
    "elif spam==\"2\":\n",
    "    print(\"Howdy\")\n",
    "else:\n",
    "    print(\"greetings!\")"
   ]
  },
  {
   "cell_type": "markdown",
   "id": "ff0be3db",
   "metadata": {},
   "source": [
    "## 9.If your programme is stuck in an endless loop, what keys you’ll press?"
   ]
  },
  {
   "cell_type": "markdown",
   "id": "3e9f0b60",
   "metadata": {},
   "source": [
    "Ans Ctrl+c"
   ]
  },
  {
   "cell_type": "markdown",
   "id": "a6cd7056",
   "metadata": {},
   "source": [
    "## 10. How can you tell the difference between break and continue?"
   ]
  },
  {
   "cell_type": "markdown",
   "id": "cb8901f9",
   "metadata": {},
   "source": [
    "Ans If the loop is still running, then we can say that the continue function is there, and if the loop has been terminated then break funtion id there.\n",
    "\n",
    "Continue funtion bypass the iteration in which it is called\n",
    "\n",
    "Break funtion terminate the loop"
   ]
  },
  {
   "cell_type": "markdown",
   "id": "fabe8735",
   "metadata": {},
   "source": [
    "## 11. In a for loop, what is the difference between range(10), range(0, 10), and range(0, 10, 1)?"
   ]
  },
  {
   "cell_type": "raw",
   "id": "a1010e68",
   "metadata": {},
   "source": [
    "Ans There is no difference in the three range function in for loop"
   ]
  },
  {
   "cell_type": "code",
   "execution_count": 27,
   "id": "cceae712",
   "metadata": {},
   "outputs": [
    {
     "name": "stdout",
     "output_type": "stream",
     "text": [
      "0123456789\n",
      "0123456789\n",
      "0123456789"
     ]
    }
   ],
   "source": [
    "for i in range(10):\n",
    "    print(i,end=\"\")\n",
    "print(\"\")  \n",
    "\n",
    "for i in range(0,10):\n",
    "    print(i,end=\"\")\n",
    "print(\"\")\n",
    "for i in range(0,10,1):\n",
    "    print(i,end=\"\")"
   ]
  },
  {
   "cell_type": "markdown",
   "id": "f6e18867",
   "metadata": {},
   "source": [
    "## 12. Write a short program that prints the numbers 1 to 10 using a for loop. Then write an equivalent program that prints the numbers 1 to 10 using a while loop."
   ]
  },
  {
   "cell_type": "code",
   "execution_count": 36,
   "id": "57a238de",
   "metadata": {},
   "outputs": [
    {
     "name": "stdout",
     "output_type": "stream",
     "text": [
      "12345678910\n",
      "12345678910"
     ]
    }
   ],
   "source": [
    "for i in range(1,11):\n",
    "    print(i,end=\"\")\n",
    "\n",
    "print(\"\")\n",
    "    \n",
    "x=1\n",
    "while x<11:\n",
    "    print(x,end=\"\")\n",
    "    x=x+1"
   ]
  },
  {
   "cell_type": "markdown",
   "id": "b200ab80",
   "metadata": {},
   "source": [
    "## 13. If you had a function named bacon() inside a module named spam, how would you call it after importing spam?"
   ]
  },
  {
   "cell_type": "code",
   "execution_count": null,
   "id": "2edfdd63",
   "metadata": {},
   "outputs": [],
   "source": [
    "Ans. \n",
    "\n",
    "It would be like mentioned below\n",
    "\n",
    "import spam\n",
    "\n",
    "spam.bacon()"
   ]
  }
 ],
 "metadata": {
  "kernelspec": {
   "display_name": "Python 3 (ipykernel)",
   "language": "python",
   "name": "python3"
  },
  "language_info": {
   "codemirror_mode": {
    "name": "ipython",
    "version": 3
   },
   "file_extension": ".py",
   "mimetype": "text/x-python",
   "name": "python",
   "nbconvert_exporter": "python",
   "pygments_lexer": "ipython3",
   "version": "3.9.7"
  }
 },
 "nbformat": 4,
 "nbformat_minor": 5
}
